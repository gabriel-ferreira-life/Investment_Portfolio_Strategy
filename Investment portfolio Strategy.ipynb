{
 "cells": [
  {
   "cell_type": "code",
   "execution_count": 5,
   "metadata": {},
   "outputs": [],
   "source": [
    "# Importing libraries\n",
    "import yfinance as yf\n",
    "import pandas as pd\n",
    "import numpy as np\n",
    "import matplotlib.pyplot as plt\n",
    "from scipy.optimize import minimize"
   ]
  },
  {
   "cell_type": "code",
   "execution_count": 26,
   "metadata": {},
   "outputs": [
    {
     "name": "stdout",
     "output_type": "stream",
     "text": [
      "[*********************100%***********************]  1 of 1 completed\n",
      "[*********************100%***********************]  1 of 1 completed\n",
      "[*********************100%***********************]  1 of 1 completed\n",
      "[*********************100%***********************]  1 of 1 completed\n",
      "[*********************100%***********************]  1 of 1 completed\n",
      "[*********************100%***********************]  1 of 1 completed\n",
      "[*********************100%***********************]  1 of 1 completed\n",
      "[*********************100%***********************]  1 of 1 completed\n",
      "[*********************100%***********************]  1 of 1 completed\n",
      "[*********************100%***********************]  1 of 1 completed\n"
     ]
    },
    {
     "data": {
      "text/html": [
       "<div>\n",
       "<style scoped>\n",
       "    .dataframe tbody tr th:only-of-type {\n",
       "        vertical-align: middle;\n",
       "    }\n",
       "\n",
       "    .dataframe tbody tr th {\n",
       "        vertical-align: top;\n",
       "    }\n",
       "\n",
       "    .dataframe thead th {\n",
       "        text-align: right;\n",
       "    }\n",
       "</style>\n",
       "<table border=\"1\" class=\"dataframe\">\n",
       "  <thead>\n",
       "    <tr style=\"text-align: right;\">\n",
       "      <th></th>\n",
       "      <th>AAPL_tot_returns</th>\n",
       "      <th>AMZN_tot_returns</th>\n",
       "      <th>NKE_tot_returns</th>\n",
       "      <th>CHTR_tot_returns</th>\n",
       "      <th>NFLX_tot_returns</th>\n",
       "      <th>TSLA_tot_returns</th>\n",
       "      <th>PLUG_tot_returns</th>\n",
       "      <th>FB_tot_returns</th>\n",
       "      <th>MSFT_tot_returns</th>\n",
       "      <th>GSPC_tot_returns</th>\n",
       "    </tr>\n",
       "    <tr>\n",
       "      <th>Date</th>\n",
       "      <th></th>\n",
       "      <th></th>\n",
       "      <th></th>\n",
       "      <th></th>\n",
       "      <th></th>\n",
       "      <th></th>\n",
       "      <th></th>\n",
       "      <th></th>\n",
       "      <th></th>\n",
       "      <th></th>\n",
       "    </tr>\n",
       "  </thead>\n",
       "  <tbody>\n",
       "    <tr>\n",
       "      <th>2021-06-03</th>\n",
       "      <td>-0.012154</td>\n",
       "      <td>-0.014527</td>\n",
       "      <td>0.000000</td>\n",
       "      <td>-0.009979</td>\n",
       "      <td>-0.019650</td>\n",
       "      <td>-0.053345</td>\n",
       "      <td>-0.021505</td>\n",
       "      <td>-0.009449</td>\n",
       "      <td>-0.006429</td>\n",
       "      <td>-0.003629</td>\n",
       "    </tr>\n",
       "    <tr>\n",
       "      <th>2021-06-04</th>\n",
       "      <td>0.019994</td>\n",
       "      <td>0.004892</td>\n",
       "      <td>-0.004546</td>\n",
       "      <td>0.012240</td>\n",
       "      <td>0.013955</td>\n",
       "      <td>0.043729</td>\n",
       "      <td>0.024142</td>\n",
       "      <td>0.013940</td>\n",
       "      <td>0.022140</td>\n",
       "      <td>0.008522</td>\n",
       "    </tr>\n",
       "  </tbody>\n",
       "</table>\n",
       "</div>"
      ],
      "text/plain": [
       "            AAPL_tot_returns  AMZN_tot_returns  NKE_tot_returns  \\\n",
       "Date                                                              \n",
       "2021-06-03         -0.012154         -0.014527         0.000000   \n",
       "2021-06-04          0.019994          0.004892        -0.004546   \n",
       "\n",
       "            CHTR_tot_returns  NFLX_tot_returns  TSLA_tot_returns  \\\n",
       "Date                                                               \n",
       "2021-06-03         -0.009979         -0.019650         -0.053345   \n",
       "2021-06-04          0.012240          0.013955          0.043729   \n",
       "\n",
       "            PLUG_tot_returns  FB_tot_returns  MSFT_tot_returns  \\\n",
       "Date                                                             \n",
       "2021-06-03         -0.021505       -0.009449         -0.006429   \n",
       "2021-06-04          0.024142        0.013940          0.022140   \n",
       "\n",
       "            GSPC_tot_returns  \n",
       "Date                          \n",
       "2021-06-03         -0.003629  \n",
       "2021-06-04          0.008522  "
      ]
     },
     "execution_count": 26,
     "metadata": {},
     "output_type": "execute_result"
    }
   ],
   "source": [
    "# Main Stocks\n",
    "# Downloading Apple stock data price\n",
    "AAPL = yf.download('AAPL', start = '2018-01-01')\n",
    "\n",
    "# Downloading Amazon stock data price\n",
    "AMZN = yf.download('AMZN', start = '2018-01-01')\n",
    "\n",
    "# Downloading Nike stock data price\n",
    "NKE = yf.download('NKE', start = '2018-01-01')\n",
    "\n",
    "# Testing Stocks\n",
    "# Downloading Charter Communications stock data price\n",
    "CHTR = yf.download('CHTR', start = '2018-01-01')\n",
    "\n",
    "# Downloading Netflix stock data price\n",
    "NFLX = yf.download('NFLX', start = '2018-01-01')\n",
    "\n",
    "# Downloading Tesla stock data price\n",
    "TSLA = yf.download('TSLA', start = '2018-01-01')\n",
    "\n",
    "# Downloading Power Plug stock data price\n",
    "PLUG = yf.download('PLUG', start = '2018-01-01')\n",
    "\n",
    "# Downloading Facebook stock data price\n",
    "FB = yf.download('FB', start = '2018-01-01')\n",
    "\n",
    "# Downloading Microsoft stock data price\n",
    "MSFT = yf.download('MSFT', start = '2018-01-01')\n",
    "\n",
    "# Downloading Benchmark data pri\n",
    "benchmark = yf.download('^GSPC', start = '2018-01-01')\n",
    "\n",
    "# Creating a portfolio and computing total returns\n",
    "portfolio = pd.DataFrame({'AAPL_tot_returns': AAPL['Adj Close'].pct_change(),\n",
    "                           'AMZN_tot_returns': AMZN['Adj Close'].pct_change(),\n",
    "                            'NKE_tot_returns': NKE['Adj Close'].pct_change(),\n",
    "                             'CHTR_tot_returns': CHTR['Adj Close'].pct_change(),\n",
    "                              'NFLX_tot_returns': NFLX['Adj Close'].pct_change(),\n",
    "                               'TSLA_tot_returns': TSLA['Adj Close'].pct_change(),\n",
    "                                'PLUG_tot_returns': PLUG['Adj Close'].pct_change(),\n",
    "                                'FB_tot_returns': FB['Adj Close'].pct_change(),\n",
    "                                  'MSFT_tot_returns': MSFT['Adj Close'].pct_change(),\n",
    "                                 'GSPC_tot_returns': benchmark['Adj Close'].pct_change()})\n",
    "\n",
    "\n",
    "# Removing NA values\n",
    "portfolio = portfolio.dropna()\n",
    "\n",
    "portfolio.tail(2)"
   ]
  },
  {
   "cell_type": "markdown",
   "metadata": {},
   "source": [
    "## Computing Returns"
   ]
  },
  {
   "cell_type": "code",
   "execution_count": 78,
   "metadata": {},
   "outputs": [
    {
     "data": {
      "text/html": [
       "<div>\n",
       "<style scoped>\n",
       "    .dataframe tbody tr th:only-of-type {\n",
       "        vertical-align: middle;\n",
       "    }\n",
       "\n",
       "    .dataframe tbody tr th {\n",
       "        vertical-align: top;\n",
       "    }\n",
       "\n",
       "    .dataframe thead th {\n",
       "        text-align: right;\n",
       "    }\n",
       "</style>\n",
       "<table border=\"1\" class=\"dataframe\">\n",
       "  <thead>\n",
       "    <tr style=\"text-align: right;\">\n",
       "      <th></th>\n",
       "      <th>AAPL_tot_returns</th>\n",
       "      <th>AMZN_tot_returns</th>\n",
       "      <th>NKE_tot_returns</th>\n",
       "      <th>CHTR_tot_returns</th>\n",
       "      <th>NFLX_tot_returns</th>\n",
       "      <th>TSLA_tot_returns</th>\n",
       "      <th>PLUG_tot_returns</th>\n",
       "      <th>FB_tot_returns</th>\n",
       "      <th>MSFT_tot_returns</th>\n",
       "      <th>GSPC_tot_returns</th>\n",
       "      <th>...</th>\n",
       "      <th>AMZN_cum_returns</th>\n",
       "      <th>NKE_cum_returns</th>\n",
       "      <th>CHTR_cum_returns</th>\n",
       "      <th>NFLX_cum_returns</th>\n",
       "      <th>TSLA_cum_returns</th>\n",
       "      <th>PLUG_cum_returns</th>\n",
       "      <th>FB_cum_returns</th>\n",
       "      <th>GSPC_cum_returns</th>\n",
       "      <th>MSFT_gross_returns</th>\n",
       "      <th>MSFT_cum_returns</th>\n",
       "    </tr>\n",
       "    <tr>\n",
       "      <th>Date</th>\n",
       "      <th></th>\n",
       "      <th></th>\n",
       "      <th></th>\n",
       "      <th></th>\n",
       "      <th></th>\n",
       "      <th></th>\n",
       "      <th></th>\n",
       "      <th></th>\n",
       "      <th></th>\n",
       "      <th></th>\n",
       "      <th></th>\n",
       "      <th></th>\n",
       "      <th></th>\n",
       "      <th></th>\n",
       "      <th></th>\n",
       "      <th></th>\n",
       "      <th></th>\n",
       "      <th></th>\n",
       "      <th></th>\n",
       "      <th></th>\n",
       "      <th></th>\n",
       "    </tr>\n",
       "  </thead>\n",
       "  <tbody>\n",
       "    <tr>\n",
       "      <th>2021-06-03</th>\n",
       "      <td>-0.012154</td>\n",
       "      <td>-0.014527</td>\n",
       "      <td>0.000000</td>\n",
       "      <td>-0.009979</td>\n",
       "      <td>-0.019650</td>\n",
       "      <td>-0.053345</td>\n",
       "      <td>-0.021505</td>\n",
       "      <td>-0.009449</td>\n",
       "      <td>-0.006429</td>\n",
       "      <td>-0.003629</td>\n",
       "      <td>...</td>\n",
       "      <td>2.680390</td>\n",
       "      <td>2.189176</td>\n",
       "      <td>1.936098</td>\n",
       "      <td>2.434127</td>\n",
       "      <td>8.935825</td>\n",
       "      <td>12.409091</td>\n",
       "      <td>1.797156</td>\n",
       "      <td>1.555321</td>\n",
       "      <td>0.993571</td>\n",
       "      <td>2.996282</td>\n",
       "    </tr>\n",
       "    <tr>\n",
       "      <th>2021-06-04</th>\n",
       "      <td>0.019994</td>\n",
       "      <td>0.004892</td>\n",
       "      <td>-0.004546</td>\n",
       "      <td>0.012240</td>\n",
       "      <td>0.013955</td>\n",
       "      <td>0.043729</td>\n",
       "      <td>0.024142</td>\n",
       "      <td>0.013940</td>\n",
       "      <td>0.022140</td>\n",
       "      <td>0.008522</td>\n",
       "      <td>...</td>\n",
       "      <td>2.693501</td>\n",
       "      <td>2.179223</td>\n",
       "      <td>1.959796</td>\n",
       "      <td>2.468096</td>\n",
       "      <td>9.326584</td>\n",
       "      <td>12.708677</td>\n",
       "      <td>1.822208</td>\n",
       "      <td>1.568575</td>\n",
       "      <td>1.022140</td>\n",
       "      <td>3.062619</td>\n",
       "    </tr>\n",
       "  </tbody>\n",
       "</table>\n",
       "<p>2 rows × 30 columns</p>\n",
       "</div>"
      ],
      "text/plain": [
       "            AAPL_tot_returns  AMZN_tot_returns  NKE_tot_returns  \\\n",
       "Date                                                              \n",
       "2021-06-03         -0.012154         -0.014527         0.000000   \n",
       "2021-06-04          0.019994          0.004892        -0.004546   \n",
       "\n",
       "            CHTR_tot_returns  NFLX_tot_returns  TSLA_tot_returns  \\\n",
       "Date                                                               \n",
       "2021-06-03         -0.009979         -0.019650         -0.053345   \n",
       "2021-06-04          0.012240          0.013955          0.043729   \n",
       "\n",
       "            PLUG_tot_returns  FB_tot_returns  MSFT_tot_returns  \\\n",
       "Date                                                             \n",
       "2021-06-03         -0.021505       -0.009449         -0.006429   \n",
       "2021-06-04          0.024142        0.013940          0.022140   \n",
       "\n",
       "            GSPC_tot_returns  ...  AMZN_cum_returns  NKE_cum_returns  \\\n",
       "Date                          ...                                      \n",
       "2021-06-03         -0.003629  ...          2.680390         2.189176   \n",
       "2021-06-04          0.008522  ...          2.693501         2.179223   \n",
       "\n",
       "            CHTR_cum_returns  NFLX_cum_returns  TSLA_cum_returns  \\\n",
       "Date                                                               \n",
       "2021-06-03          1.936098          2.434127          8.935825   \n",
       "2021-06-04          1.959796          2.468096          9.326584   \n",
       "\n",
       "            PLUG_cum_returns  FB_cum_returns  GSPC_cum_returns  \\\n",
       "Date                                                             \n",
       "2021-06-03         12.409091        1.797156          1.555321   \n",
       "2021-06-04         12.708677        1.822208          1.568575   \n",
       "\n",
       "            MSFT_gross_returns  MSFT_cum_returns  \n",
       "Date                                              \n",
       "2021-06-03            0.993571          2.996282  \n",
       "2021-06-04            1.022140          3.062619  \n",
       "\n",
       "[2 rows x 30 columns]"
      ]
     },
     "execution_count": 78,
     "metadata": {},
     "output_type": "execute_result"
    }
   ],
   "source": [
    "# Computing gross returns\n",
    "portfolio['AAPL_gross_returns'] = 1 + portfolio['AAPL_tot_returns']\n",
    "portfolio['AMZN_gross_returns'] = 1 + portfolio['AMZN_tot_returns']\n",
    "portfolio['NKE_gross_returns'] = 1 + portfolio['NKE_tot_returns']\n",
    "portfolio['CHTR_gross_returns'] = 1 + portfolio['CHTR_tot_returns']\n",
    "portfolio['NFLX_gross_returns'] = 1 + portfolio['NFLX_tot_returns']\n",
    "portfolio['TSLA_gross_returns'] = 1 + portfolio['TSLA_tot_returns']\n",
    "portfolio['PLUG_gross_returns'] = 1 + portfolio['PLUG_tot_returns']\n",
    "portfolio['FB_gross_returns'] = 1 + portfolio['FB_tot_returns']\n",
    "portfolio['MSFT_gross_returns'] = 1 + portfolio['MSFT_tot_returns']\n",
    "portfolio['GSPC_gross_returns'] = 1 + portfolio['GSPC_tot_returns']\n",
    "\n",
    "# Computing cumulative returns\n",
    "portfolio['AAPL_cum_returns'] = portfolio['AAPL_gross_returns'].cumprod()\n",
    "portfolio['AMZN_cum_returns'] = portfolio['AMZN_gross_returns'].cumprod()\n",
    "portfolio['NKE_cum_returns'] = portfolio['NKE_gross_returns'].cumprod()\n",
    "portfolio['CHTR_cum_returns'] = portfolio['CHTR_gross_returns'].cumprod()\n",
    "portfolio['NFLX_cum_returns'] = portfolio['NFLX_gross_returns'].cumprod()\n",
    "portfolio['TSLA_cum_returns'] = portfolio['TSLA_gross_returns'].cumprod()\n",
    "portfolio['PLUG_cum_returns'] = portfolio['PLUG_gross_returns'].cumprod()\n",
    "portfolio['FB_cum_returns'] = portfolio['FB_gross_returns'].cumprod()\n",
    "portfolio['MSFT_cum_returns'] = portfolio['MSFT_gross_returns'].cumprod()\n",
    "portfolio['GSPC_cum_returns'] = portfolio['GSPC_gross_returns'].cumprod()\n",
    "\n",
    "\n",
    "portfolio.tail(2)"
   ]
  },
  {
   "cell_type": "markdown",
   "metadata": {},
   "source": [
    "## Measuring volatility of each stock using Garman Klass Volatility"
   ]
  },
  {
   "cell_type": "code",
   "execution_count": 50,
   "metadata": {},
   "outputs": [
    {
     "name": "stdout",
     "output_type": "stream",
     "text": [
      "Garman Klass for each stock:\n",
      "AAPL:  0.0186\n",
      "AMZN:  0.0195\n",
      "NKE:  0.0181\n",
      "CHTR:  0.0195\n",
      "NFLX:  0.0263\n",
      "TSLA:  0.0376\n",
      "PLUG:  0.0517\n",
      "FB:  0.021\n",
      "MSFT:  0.0177\n",
      "\n",
      "Benchmark:  0.0113\n"
     ]
    }
   ],
   "source": [
    "# AAPL\n",
    "## Computing the log(h_t/l_t) and its square\n",
    "AAPL['log_high_low'] = np.log(AAPL['High'] / AAPL['Low'])\n",
    "AAPL['log_high_low_square'] = AAPL['log_high_low']**2\n",
    "\n",
    "## Computing the log(c_t/o_t) and its square\n",
    "AAPL['log_close_open'] = np.log(AAPL['Close'] / AAPL['Open'])\n",
    "AAPL['log_close_open_square'] = AAPL['log_close_open']**2\n",
    "\n",
    "## Computing the Garman-Klass volatility measure\n",
    "Garman_Klass_AAPL = np.sqrt((1/(2*AAPL.shape[0]))*\n",
    "                       np.sum(AAPL['log_high_low_square'] -\n",
    "                              ((2*np.log(2) - 1)/AAPL.shape[0])*\n",
    "                              AAPL['log_close_open_square']))\n",
    "\n",
    "\n",
    "# AMZN\n",
    "## Computing the log(h_t/l_t) and its square\n",
    "AMZN['log_high_low'] = np.log(AMZN['High'] / AMZN['Low'])\n",
    "AMZN['log_high_low_square'] = AMZN['log_high_low']**2\n",
    "\n",
    "## Computing the log(c_t/o_t) and its square\n",
    "AMZN['log_close_open'] = np.log(AMZN['Close'] / AMZN['Open'])\n",
    "AMZN['log_close_open_square'] = AMZN['log_close_open']**2\n",
    "\n",
    "## Computing the Garman-Klass volatility measure\n",
    "Garman_Klass_AMZN = np.sqrt((1/(2*AMZN.shape[0]))*\n",
    "                       np.sum(AMZN['log_high_low_square'] -\n",
    "                              ((2*np.log(2) - 1)/AMZN.shape[0])*\n",
    "                              AMZN['log_close_open_square']))\n",
    "\n",
    "\n",
    "# NKE\n",
    "## Computing the log(h_t/l_t) and its square\n",
    "NKE['log_high_low'] = np.log(NKE['High'] / NKE['Low'])\n",
    "NKE['log_high_low_square'] = NKE['log_high_low']**2\n",
    "\n",
    "## Computing the log(c_t/o_t) and its square\n",
    "NKE['log_close_open'] = np.log(NKE['Close'] / NKE['Open'])\n",
    "NKE['log_close_open_square'] = NKE['log_close_open']**2\n",
    "\n",
    "## Computing the Garman-Klass volatility measure\n",
    "Garman_Klass_NKE= np.sqrt((1/(2*NKE.shape[0]))*\n",
    "                       np.sum(NKE['log_high_low_square'] -\n",
    "                              ((2*np.log(2) - 1)/NKE.shape[0])*\n",
    "                              NKE['log_close_open_square']))\n",
    "\n",
    "\n",
    "# CHTR\n",
    "## Computing the log(h_t/l_t) and its square\n",
    "CHTR['log_high_low'] = np.log(CHTR['High'] / CHTR['Low'])\n",
    "CHTR['log_high_low_square'] = CHTR['log_high_low']**2\n",
    "\n",
    "## Computing the log(c_t/o_t) and its square\n",
    "CHTR['log_close_open'] = np.log(CHTR['Close'] / CHTR['Open'])\n",
    "CHTR['log_close_open_square'] = CHTR['log_close_open']**2\n",
    "\n",
    "## Computing the Garman-Klass volatility measure\n",
    "Garman_Klass_CHTR = np.sqrt((1/(2*CHTR.shape[0]))*\n",
    "                       np.sum(CHTR['log_high_low_square'] -\n",
    "                              ((2*np.log(2) - 1)/CHTR.shape[0])*\n",
    "                              CHTR['log_close_open_square']))\n",
    "\n",
    "# Netflix\n",
    "## Computing the log(h_t/l_t) and its square\n",
    "NFLX['log_high_low'] = np.log(NFLX['High'] / NFLX['Low'])\n",
    "NFLX['log_high_low_square'] = NFLX['log_high_low']**2\n",
    "\n",
    "## Computing the log(c_t/o_t) and its square\n",
    "NFLX['log_close_open'] = np.log(NFLX['Close'] / NFLX['Open'])\n",
    "NFLX['log_close_open_square'] = NFLX['log_close_open']**2\n",
    "\n",
    "## Computing the Garman-Klass volatility measure\n",
    "Garman_Klass_NFLX = np.sqrt((1/(2*NFLX.shape[0]))*\n",
    "                       np.sum(NFLX['log_high_low_square'] -\n",
    "                              ((2*np.log(2) - 1)/NFLX.shape[0])*\n",
    "                              NFLX['log_close_open_square']))\n",
    "\n",
    "# TSLA\n",
    "## Computing the log(h_t/l_t) and its square\n",
    "TSLA['log_high_low'] = np.log(TSLA['High'] / TSLA['Low'])\n",
    "TSLA['log_high_low_square'] = TSLA['log_high_low']**2\n",
    "\n",
    "## Computing the log(c_t/o_t) and its square\n",
    "TSLA['log_close_open'] = np.log(TSLA['Close'] / TSLA['Open'])\n",
    "TSLA['log_close_open_square'] = TSLA['log_close_open']**2\n",
    "\n",
    "## Computing the Garman-Klass volatility measure\n",
    "Garman_Klass_TSLA = np.sqrt((1/(2*TSLA.shape[0]))*\n",
    "                       np.sum(TSLA['log_high_low_square'] -\n",
    "                              ((2*np.log(2) - 1)/TSLA.shape[0])*\n",
    "                              TSLA['log_close_open_square']))\n",
    "\n",
    "# PLUG\n",
    "## Computing the log(h_t/l_t) and its square\n",
    "PLUG['log_high_low'] = np.log(PLUG['High'] / PLUG['Low'])\n",
    "PLUG['log_high_low_square'] = PLUG['log_high_low']**2\n",
    "\n",
    "## Computing the log(c_t/o_t) and its square\n",
    "PLUG['log_close_open'] = np.log(PLUG['Close'] / PLUG['Open'])\n",
    "PLUG['log_close_open_square'] = PLUG['log_close_open']**2\n",
    "\n",
    "## Computing the Garman-Klass volatility measure\n",
    "Garman_Klass_PLUG = np.sqrt((1/(2*PLUG.shape[0]))*\n",
    "                       np.sum(PLUG['log_high_low_square'] -\n",
    "                              ((2*np.log(2) - 1)/PLUG.shape[0])*\n",
    "                              PLUG['log_close_open_square']))\n",
    "\n",
    "# FB\n",
    "## Computing the log(h_t/l_t) and its square\n",
    "FB['log_high_low'] = np.log(FB['High'] / FB['Low'])\n",
    "FB['log_high_low_square'] = FB['log_high_low']**2\n",
    "\n",
    "## Computing the log(c_t/o_t) and its square\n",
    "FB['log_close_open'] = np.log(FB['Close'] / FB['Open'])\n",
    "FB['log_close_open_square'] = FB['log_close_open']**2\n",
    "\n",
    "## Computing the Garman-Klass volatility measure\n",
    "Garman_Klass_FB = np.sqrt((1/(2*FB.shape[0]))*\n",
    "                       np.sum(FB['log_high_low_square'] -\n",
    "                              ((2*np.log(2) - 1)/FB.shape[0])*\n",
    "                              FB['log_close_open_square']))\n",
    "\n",
    "# MSFT\n",
    "## Computing the log(h_t/l_t) and its square\n",
    "MSFT['log_high_low'] = np.log(MSFT['High'] / MSFT['Low'])\n",
    "MSFT['log_high_low_square'] = MSFT['log_high_low']**2\n",
    "\n",
    "## Computing the log(c_t/o_t) and its square\n",
    "MSFT['log_close_open'] = np.log(MSFT['Close'] / MSFT['Open'])\n",
    "MSFT['log_close_open_square'] = MSFT['log_close_open']**2\n",
    "\n",
    "## Computing the Garman-Klass volatility measure\n",
    "Garman_Klass_MSFT = np.sqrt((1/(2*MSFT.shape[0]))*\n",
    "                       np.sum(MSFT['log_high_low_square'] -\n",
    "                              ((2*np.log(2) - 1)/MSFT.shape[0])*\n",
    "                              MSFT['log_close_open_square']))\n",
    "\n",
    "\n",
    "# Benchmark\n",
    "## Computing the log(h_t/l_t) and its square\n",
    "benchmark['log_high_low'] = np.log(benchmark['High'] / benchmark['Low'])\n",
    "benchmark['log_high_low_square'] = benchmark['log_high_low']**2\n",
    "\n",
    "## Computing the log(c_t/o_t) and its square\n",
    "benchmark['log_close_open'] = np.log(benchmark['Close'] / benchmark['Open'])\n",
    "benchmark['log_close_open_square'] = benchmark['log_close_open']**2\n",
    "\n",
    "## Computing the Garman-Klass volatility measure\n",
    "Garman_Klass_benchmark = np.sqrt((1/(2*benchmark.shape[0]))*\n",
    "                       np.sum(benchmark['log_high_low_square'] -\n",
    "                              ((2*np.log(2) - 1)/benchmark.shape[0])*\n",
    "                              benchmark['log_close_open_square']))\n",
    "\n",
    "## Garman Klass for these stocks\n",
    "print('Garman Klass for each stock:')\n",
    "print('AAPL: ',round(Garman_Klass_AAPL, 4))\n",
    "print('AMZN: ',round(Garman_Klass_AMZN, 4))\n",
    "print('NKE: ',round(Garman_Klass_NKE, 4))\n",
    "print('CHTR: ',round(Garman_Klass_CHTR, 4))\n",
    "print('NFLX: ',round(Garman_Klass_NFLX, 4))\n",
    "print('TSLA: ',round(Garman_Klass_TSLA, 4))\n",
    "print('PLUG: ',round(Garman_Klass_PLUG, 4))\n",
    "print('FB: ',round(Garman_Klass_FB, 4))\n",
    "print('MSFT: ',round(Garman_Klass_MSFT, 4))\n",
    "print('')\n",
    "print('Benchmark: ',round(Garman_Klass_benchmark, 4))"
   ]
  },
  {
   "cell_type": "markdown",
   "metadata": {},
   "source": [
    "## Measuring Sharpe Ratio of each stock."
   ]
  },
  {
   "cell_type": "code",
   "execution_count": 28,
   "metadata": {},
   "outputs": [
    {
     "name": "stdout",
     "output_type": "stream",
     "text": [
      "The AAPL Sharpe Ration is:  0.071\n",
      "The AMZN Sharpe Ration is:  0.067\n",
      "The NKE Sharpe Ration is:  0.056\n",
      "The CHTR Sharpe Ration is:  0.051\n",
      "The NFLX Sharpe Ration is:  0.053\n",
      "The TSLA Sharpe Ration is:  0.082\n",
      "The PLUG Sharpe Ration is:  0.083\n",
      "The FB Sharpe Ration is:  0.041\n",
      "The MSFT Sharpe Ration is:  0.076\n",
      " \n",
      "The Benchmark Sharpe Ration is:  0.044\n"
     ]
    }
   ],
   "source": [
    "## Computing the Sharpe Ratio of Apple\n",
    "daily_risk_free = 0.0008 / 365\n",
    "mu_AAPL = portfolio['AAPL_tot_returns'].mean()\n",
    "sd_AAPL = portfolio['AAPL_tot_returns'].std()\n",
    "Sharpe_AAPL = (mu_AAPL - daily_risk_free) / sd_AAPL\n",
    "print('The AAPL Sharpe Ration is: ', round(Sharpe_AAPL, 3))\n",
    "\n",
    "## Computing the Sharpe Ratio of AMZN\n",
    "daily_risk_free = 0.0008 / 365\n",
    "mu_AMZN = portfolio['AMZN_tot_returns'].mean()\n",
    "sd_AMZN = portfolio['AMZN_tot_returns'].std()\n",
    "Sharpe_AMZN = (mu_AMZN - daily_risk_free) / sd_AMZN\n",
    "print('The AMZN Sharpe Ration is: ', round(Sharpe_AMZN, 3))\n",
    "\n",
    "## Computing the Sharpe Ratio of NKE\n",
    "daily_risk_free = 0.0008 / 365\n",
    "mu_NKE = portfolio['NKE_tot_returns'].mean()\n",
    "sd_NKE = portfolio['NKE_tot_returns'].std()\n",
    "Sharpe_NKE = (mu_NKE - daily_risk_free) / sd_NKE\n",
    "print('The NKE Sharpe Ration is: ', round(Sharpe_NKE, 3))\n",
    "\n",
    "## Computing the Sharpe Ratio of CHTR\n",
    "daily_risk_free = 0.0008 / 365\n",
    "mu_CHTR = portfolio['CHTR_tot_returns'].mean()\n",
    "sd_CHTR = portfolio['CHTR_tot_returns'].std()\n",
    "Sharpe_CHTR = (mu_CHTR - daily_risk_free) / sd_CHTR\n",
    "print('The CHTR Sharpe Ration is: ', round(Sharpe_CHTR, 3))\n",
    "\n",
    "## Computing the Sharpe Ratio of NFLX\n",
    "daily_risk_free = 0.0008 / 365\n",
    "mu_NFLX = portfolio['NFLX_tot_returns'].mean()\n",
    "sd_NFLX = portfolio['NFLX_tot_returns'].std()\n",
    "Sharpe_NFLX = (mu_NFLX - daily_risk_free) / sd_NFLX\n",
    "print('The NFLX Sharpe Ration is: ', round(Sharpe_NFLX, 3))\n",
    "\n",
    "## Computing the Sharpe Ratio of TSLA\n",
    "daily_risk_free = 0.0008 / 365\n",
    "mu_TSLA = portfolio['TSLA_tot_returns'].mean()\n",
    "sd_TSLA = portfolio['TSLA_tot_returns'].std()\n",
    "Sharpe_TSLA = (mu_TSLA - daily_risk_free) / sd_TSLA\n",
    "print('The TSLA Sharpe Ration is: ', round(Sharpe_TSLA, 3))\n",
    "\n",
    "## Computing the Sharpe Ratio of PLUG\n",
    "daily_risk_free = 0.0008 / 365\n",
    "mu_PLUG = portfolio['PLUG_tot_returns'].mean()\n",
    "sd_PLUG = portfolio['PLUG_tot_returns'].std()\n",
    "Sharpe_PLUG = (mu_PLUG - daily_risk_free) / sd_PLUG\n",
    "print('The PLUG Sharpe Ration is: ', round(Sharpe_PLUG, 3))\n",
    "\n",
    "## Computing the Sharpe Ratio of FB\n",
    "daily_risk_free = 0.0008 / 365\n",
    "mu_FB = portfolio['FB_tot_returns'].mean()\n",
    "sd_FB = portfolio['FB_tot_returns'].std()\n",
    "Sharpe_FB = (mu_FB - daily_risk_free) / sd_FB\n",
    "print('The FB Sharpe Ration is: ', round(Sharpe_FB, 3))\n",
    "\n",
    "## Computing the Sharpe Ratio of MSFT\n",
    "daily_risk_free = 0.0008 / 365\n",
    "mu_MSFT = portfolio['MSFT_tot_returns'].mean()\n",
    "sd_MSFT = portfolio['MSFT_tot_returns'].std()\n",
    "Sharpe_MSFT = (mu_MSFT - daily_risk_free) / sd_MSFT\n",
    "print('The MSFT Sharpe Ration is: ', round(Sharpe_MSFT, 3))\n",
    "\n",
    "## Computing the Sharpe Ratio of Benchmark\n",
    "daily_risk_free = 0.0008 / 365\n",
    "mu_benchmark = portfolio['GSPC_tot_returns'].mean()\n",
    "sd_benchmark = portfolio['GSPC_tot_returns'].std()\n",
    "Sharpe_benchmark = (mu_benchmark - daily_risk_free) / sd_benchmark\n",
    "print(' ')\n",
    "print('The Benchmark Sharpe Ration is: ', round(Sharpe_benchmark, 3))"
   ]
  },
  {
   "cell_type": "markdown",
   "metadata": {},
   "source": [
    "# Equal Weight Portfolio\n",
    "## Garman Klass Equal Weight Portfolio"
   ]
  },
  {
   "cell_type": "code",
   "execution_count": 73,
   "metadata": {},
   "outputs": [
    {
     "name": "stdout",
     "output_type": "stream",
     "text": [
      "The Garman Klass for this equal weight portfolio would be:  0.0256\n"
     ]
    }
   ],
   "source": [
    "## Computing GK \n",
    "portfolio_EW_GK = [float(Garman_Klass_AAPL),\n",
    "                              float(Garman_Klass_AMZN),\n",
    "                             float(Garman_Klass_NKE),\n",
    "                             float(Garman_Klass_CHTR),\n",
    "                             float(Garman_Klass_NFLX),\n",
    "                         float(Garman_Klass_TSLA),\n",
    "                         float(Garman_Klass_PLUG),                       \n",
    "                         float(Garman_Klass_FB),\n",
    "                         float(Garman_Klass_MSFT)]\n",
    "\n",
    "\n",
    "temp = 0\n",
    "for i in range(len(portfolio_EW_GK)):\n",
    "    temp = temp + portfolio_EW_GK[i]\n",
    "    i = i + 1\n",
    "GK_EW = temp/9\n",
    "print(\"The Garman Klass for the Equal Weight portfolio would be: \", round(GK_EW, 4))"
   ]
  },
  {
   "cell_type": "markdown",
   "metadata": {},
   "source": [
    "## Sharpe Ratio Equal Weight Portfolio"
   ]
  },
  {
   "cell_type": "code",
   "execution_count": 52,
   "metadata": {},
   "outputs": [
    {
     "name": "stdout",
     "output_type": "stream",
     "text": [
      "Sharpe Ratio for this equal weight portfolio would be:0.098\n"
     ]
    }
   ],
   "source": [
    "returns = portfolio['AAPL_tot_returns']\\\n",
    "+portfolio['AMZN_tot_returns']\\\n",
    "+portfolio['NKE_tot_returns']\\\n",
    "+portfolio['CHTR_tot_returns']\\\n",
    "+portfolio['NFLX_tot_returns']\\\n",
    "+portfolio['TSLA_tot_returns']\\\n",
    "+portfolio['PLUG_tot_returns']\\\n",
    "+portfolio['FB_tot_returns']\\\n",
    "+portfolio['MSFT_tot_returns']\n",
    "\n",
    "\n",
    "## Computing the Sharpe Ratio of the portfolio\n",
    "daily_risk_free = 0.0008 / 365\n",
    "mu_portfolio_1 = returns.mean()\n",
    "sd_portfolio_1 = returns.std()\n",
    "Sharpe_Portfolio_1 = (mu_portfolio_1 - daily_risk_free) / sd_portfolio_1\n",
    "\n",
    "print('Sharpe Ratio for the Equal Weight portfolio would be:{}'.format(round(Sharpe_Portfolio_1, 3)))"
   ]
  },
  {
   "cell_type": "markdown",
   "metadata": {},
   "source": [
    "## Equal Weight Portfolio return"
   ]
  },
  {
   "cell_type": "code",
   "execution_count": 56,
   "metadata": {},
   "outputs": [
    {
     "name": "stdout",
     "output_type": "stream",
     "text": [
      "The total return of this equal weight portfolio is:  402.32 %\n"
     ]
    }
   ],
   "source": [
    "EW_return = (portfolio['AAPL_cum_returns'] + portfolio['AMZN_cum_returns'] +\\\n",
    "                                portfolio['NKE_cum_returns'] + portfolio['CHTR_cum_returns'] +\\\n",
    "                                portfolio['NFLX_cum_returns'] + portfolio['TSLA_cum_returns'] +\\\n",
    "                                portfolio['PLUG_cum_returns'] + portfolio['FB_cum_returns']) / 9\n",
    "\n",
    "print('The total return of the Equal Weight portfolio is: ', round(EW_return.tail()[-1]*100, 2), '%')\n"
   ]
  },
  {
   "cell_type": "markdown",
   "metadata": {},
   "source": [
    "## ES and VaR Equal Weight"
   ]
  },
  {
   "cell_type": "code",
   "execution_count": 69,
   "metadata": {},
   "outputs": [
    {
     "name": "stdout",
     "output_type": "stream",
     "text": [
      "Assuming an initial investment of $100,000.00, there is a 5% chance that the equal weight portfolio losses will exceed $6191.24.\n",
      "If the losses exceed this value, there is a 5% chance that the losses will average $9160.19.\n"
     ]
    }
   ],
   "source": [
    "# Computing Current Value\n",
    "AAPL_current_value = (100/9)*100000*portfolio['AAPL_tot_returns'].tail()[-1]\n",
    "AMZN_current_value = (100/9)*100000*portfolio['AMZN_tot_returns'].tail()[-1]\n",
    "NKE_current_value = (100/9)*100000*portfolio['NKE_tot_returns'].tail()[-1]\n",
    "CHTR_current_value = (100/9)*100000*portfolio['CHTR_tot_returns'].tail()[-1]\n",
    "NFLX_current_value = (100/9)*100000*portfolio['NFLX_tot_returns'].tail()[-1]\n",
    "TSLA_current_value = (100/9)*100000*portfolio['TSLA_tot_returns'].tail()[-1]\n",
    "PLUG_current_value = (100/9)*100000*portfolio['PLUG_tot_returns'].tail()[-1]\n",
    "FB_current_value = (100/9)*100000*portfolio['FB_tot_returns'].tail()[-1]\n",
    "MSFT_current_value = (100/9)*100000*portfolio['MSFT_tot_returns'].tail()[-1]\n",
    "\n",
    "\n",
    "## Calculating sim portfolio\n",
    "sim_portfolio_ew = (AAPL_current_value*portfolio['AAPL_tot_returns'] +\\\n",
    "                        AMZN_current_value*portfolio['AMZN_tot_returns'] +\\\n",
    "                        NKE_current_value*portfolio['NKE_tot_returns'] +\\\n",
    "                        CHTR_current_value*portfolio['CHTR_tot_returns'] +\\\n",
    "                        NFLX_current_value*portfolio['NFLX_tot_returns'] +\\\n",
    "                        TSLA_current_value*portfolio['TSLA_tot_returns'] +\\\n",
    "                        PLUG_current_value*portfolio['PLUG_tot_returns'] +\\\n",
    "                        FB_current_value*portfolio['FB_tot_returns'] +\\\n",
    "                        MSFT_current_value*portfolio['MSFT_tot_returns'])\n",
    "\n",
    "## Calculating 5% Value at Risk (vaR)\n",
    "vaR_ew = np.percentile(sim_portfolio_ew, 5)\n",
    "\n",
    "## Calculating ES\n",
    "ES_ew = sim_portfolio_ew[sim_portfolio_ew < vaR_ew].mean()\n",
    "\n",
    "print('Assuming an initial investment of $100,000.00, there is a 5% chance that the Equal Weight portfolio losses will exceed ${}.'.format(round(vaR_ew*-1,2)))\n",
    "print('If the losses exceed this value, there is a 5% chance that the losses will average ${}.'.format(round(ES_ew*-1,2)))"
   ]
  },
  {
   "cell_type": "markdown",
   "metadata": {},
   "source": [
    "## Creating a portfolio with minimized variance"
   ]
  },
  {
   "cell_type": "code",
   "execution_count": 76,
   "metadata": {},
   "outputs": [
    {
     "name": "stdout",
     "output_type": "stream",
     "text": [
      "AAPL:  0.0 %\n",
      "AMZN:  23.31 %\n",
      "NKE:  31.26 %\n",
      "CHTR:  38.01 %\n",
      "NFLX:  0.0 %\n",
      "TSLA:  0.0 %\n",
      "PLUG:  0.0 %\n",
      "FB:  3.99 %\n",
      "MSFT:  3.99 %\n",
      "\n",
      "This portfolio will be called Minimum Variance Portfolio\n"
     ]
    }
   ],
   "source": [
    "returns_min = pd.DataFrame({'AAPL_tot_returns': AAPL['Adj Close'].pct_change(),\n",
    "                           'AMZN_tot_returns': AMZN['Adj Close'].pct_change(),\n",
    "                            'NKE_tot_returns': NKE['Adj Close'].pct_change(),\n",
    "                             'CHTR_tot_returns': CHTR['Adj Close'].pct_change(),\n",
    "                              'NFLX_tot_returns': NFLX['Adj Close'].pct_change(),\n",
    "                               'TSLA_tot_returns': TSLA['Adj Close'].pct_change(),\n",
    "                                'PLUG_tot_returns': PLUG['Adj Close'].pct_change(),\n",
    "                                'FB_tot_returns': FB['Adj Close'].pct_change(),\n",
    "                                 'MSFT_tot_returns': MSFT['Adj Close'].pct_change()})\n",
    "                                 \n",
    "returns_min = returns_min.dropna()\n",
    "\n",
    "# Defining portfolio variance\n",
    "def minimum_variance(x, cov_matrix):\n",
    "    f = float(np.sqrt(x.dot(cov_matrix).dot(x.T)))\n",
    "    return f\n",
    "\n",
    "# Defining the number of stocks\n",
    "n = returns_min.shape[1]\n",
    "\n",
    "# Defining the initial weights\n",
    "x = np.repeat(1/n, n)\n",
    "\n",
    "# Defining the covariance matrix\n",
    "cov_matrix = returns_min.cov()\n",
    "\n",
    "# Defining the matrix of constraints\n",
    "cons = ({'type': 'eq', 'fun':lambda x: sum(x) - 1})\n",
    "bounds = [(0, 1,) for i in range(len(x))]\n",
    "\n",
    "# Solving the optimization problem\n",
    "weights_min = minimize(minimum_variance, x, args = (cov_matrix), method = 'SLSQP', bounds = bounds, constraints = cons).x\n",
    "\n",
    "print('AAPL: ', round(weights_min[0]*100, 2), '%')\n",
    "print('AMZN: ', round(weights_min[1]*100, 2), '%')\n",
    "print('NKE: ', round(weights_min[2]*100, 2), '%')\n",
    "print('CHTR: ', round(weights_min[3]*100, 2), '%')\n",
    "print('NFLX: ', round(weights_min[4]*100, 2), '%')\n",
    "print('TSLA: ', round(weights_min[5]*100, 2), '%')\n",
    "print('PLUG: ', round(weights_min[6]*100, 2), '%')\n",
    "print('FB: ', round(weights_min[7]*100, 2), '%')\n",
    "print('MSFT: ', round(weights_min[7]*100, 2), '%')\n",
    "print('')\n",
    "print('This portfolio will be called Minimum Variance Portfolio')\n"
   ]
  },
  {
   "cell_type": "markdown",
   "metadata": {},
   "source": [
    "# Minimum Variance Portfolio\n",
    "## Garman Klass of the Minimum Variance Portfolio"
   ]
  },
  {
   "cell_type": "code",
   "execution_count": 72,
   "metadata": {},
   "outputs": [
    {
     "name": "stdout",
     "output_type": "stream",
     "text": [
      "The Garman Klass for this minimum variance weight portfolio is:  0.0192\n"
     ]
    }
   ],
   "source": [
    "portfolio_MV_GK = (0.2331*float(Garman_Klass_AMZN) + 0.3126*float(Garman_Klass_NKE) +\\\n",
    "                   0.3801*float(Garman_Klass_CHTR) + 0.0399*float(Garman_Klass_FB) +\\\n",
    "                   0.0399*float(Garman_Klass_MSFT))\n",
    "\n",
    "\n",
    "print('The Garman Klass for the Minimum Variance portfolio is: ', round(portfolio_MV_GK, 4))"
   ]
  },
  {
   "cell_type": "markdown",
   "metadata": {},
   "source": [
    "## Sharpe Ratio of the Minimum Variance Portfolio"
   ]
  },
  {
   "cell_type": "code",
   "execution_count": 77,
   "metadata": {},
   "outputs": [
    {
     "name": "stdout",
     "output_type": "stream",
     "text": [
      "Sharpe Ratio for this equal weight portfolio is: 0.073\n"
     ]
    }
   ],
   "source": [
    "portfolio_MV_SR = (23.31*portfolio['AMZN_tot_returns'] + 31.26*portfolio['NKE_tot_returns'] +\\\n",
    "                   38.01*portfolio['CHTR_tot_returns'] + 3.99*portfolio['FB_tot_returns'] +\\\n",
    "                   3.99*portfolio['MSFT_tot_returns'])\n",
    "\n",
    "\n",
    "## Computing the Sharpe Ratio of the portfolio\n",
    "daily_risk_free = 0.0008 / 365\n",
    "mu_portfolio_MV_SR = portfolio_MV_SR.mean()\n",
    "sd_portfolio_MV_SR = portfolio_MV_SR.std()\n",
    "Sharpe_portfolio_MV_SR = (mu_portfolio_MV_SR - daily_risk_free) / sd_portfolio_MV_SR\n",
    "\n",
    "print('Sharpe Ratio for the Minimum Variance portfolio is: {}'.format(round(Sharpe_portfolio_MV_SR, 3)))"
   ]
  },
  {
   "cell_type": "markdown",
   "metadata": {},
   "source": [
    "## Minimum Variance Portfolio return"
   ]
  },
  {
   "cell_type": "code",
   "execution_count": 81,
   "metadata": {},
   "outputs": [
    {
     "name": "stdout",
     "output_type": "stream",
     "text": [
      "The total return of the Minimum Variance portfolio is:  224.89 %\n"
     ]
    }
   ],
   "source": [
    "portfolio_MV_return = (23.31*portfolio['AMZN_cum_returns'] + 31.26*portfolio['NKE_cum_returns'] +\\\n",
    "                       38.01*portfolio['CHTR_cum_returns'] + 3.99*portfolio['FB_cum_returns'] +\\\n",
    "                       3.99*portfolio['MSFT_cum_returns'])\n",
    "\n",
    "print('The total return of the Minimum Variance portfolio is: ', round(portfolio_MV_return.tail()[-1], 2), '%')\n"
   ]
  },
  {
   "cell_type": "markdown",
   "metadata": {},
   "source": [
    "## Minimum Variance ES and VaR"
   ]
  },
  {
   "cell_type": "code",
   "execution_count": 82,
   "metadata": {},
   "outputs": [
    {
     "name": "stdout",
     "output_type": "stream",
     "text": [
      "Assuming an initial investment of $100,000.00, there is a 5% chance that the Minimum Variance portfolio losses will exceed $2235.92.\n",
      "If the losses exceed this value, there is a 5% chance that the losses will average $3332.52.\n"
     ]
    }
   ],
   "source": [
    "# Computing Current Value\n",
    "AMZN_current_value = 23.31*100000*portfolio['AMZN_tot_returns'].tail()[-1]\n",
    "NKE_current_value = 31.26*100000*portfolio['NKE_tot_returns'].tail()[-1]\n",
    "CHTR_current_value = 38.01*100000*portfolio['CHTR_tot_returns'].tail()[-1]\n",
    "FB_current_value = 3.99*100000*portfolio['FB_tot_returns'].tail()[-1]\n",
    "MSFT_current_value = 3.99*100000*portfolio['MSFT_tot_returns'].tail()[-1]\n",
    "\n",
    "\n",
    "## Calculating sim portfolio\n",
    "sim_portfolio_minvarw = (AAPL_current_value*portfolio['AAPL_tot_returns'] +\\\n",
    "                        AMZN_current_value*portfolio['AMZN_tot_returns'] +\\\n",
    "                        NKE_current_value*portfolio['NKE_tot_returns'] +\\\n",
    "                        CHTR_current_value*portfolio['CHTR_tot_returns'] +\\\n",
    "                        FB_current_value*portfolio['FB_tot_returns'] +\\\n",
    "                        MSFT_current_value*portfolio['MSFT_tot_returns'])\n",
    "\n",
    "## Calculating 5% Value at Risk (vaR)\n",
    "vaR_minvarw = np.percentile(sim_portfolio_minvarw, 5)\n",
    "\n",
    "## Calculating ES\n",
    "ES_minvarw = sim_portfolio_minvarw[sim_portfolio_minvarw < vaR_minvarw].mean()\n",
    "\n",
    "print('Assuming an initial investment of $100,000.00, there is a 5% chance that the Minimum Variance portfolio losses will exceed ${}.'.format(round(vaR_minvarw*-1,2)))\n",
    "print('If the losses exceed this value, there is a 5% chance that the losses will average ${}.'.format(round(ES_minvarw*-1,2)))"
   ]
  },
  {
   "cell_type": "markdown",
   "metadata": {},
   "source": [
    "## Creating a portfolio with maximum variance"
   ]
  },
  {
   "cell_type": "code",
   "execution_count": 83,
   "metadata": {},
   "outputs": [
    {
     "name": "stdout",
     "output_type": "stream",
     "text": [
      "AAPL:  5.69 %\n",
      "AMZN:  11.05 %\n",
      "NKE:  4.78 %\n",
      "CHTR:  12.08 %\n",
      "NFLX:  0.0 %\n",
      "TSLA:  23.41 %\n",
      "PLUG:  22.66 %\n",
      "FB:  0.0 %\n",
      "MSFT:  20.33 %\n",
      "\n",
      "This portfolio will be called Maximum Sharpe Ratio Portfolio\n"
     ]
    }
   ],
   "source": [
    "returns_max = pd.DataFrame({'AAPL_tot_returns': AAPL['Adj Close'].pct_change(),\n",
    "                           'AMZN_tot_returns': AMZN['Adj Close'].pct_change(),\n",
    "                            'NKE_tot_returns': NKE['Adj Close'].pct_change(),\n",
    "                             'CHTR_tot_returns': CHTR['Adj Close'].pct_change(),\n",
    "                              'NFLX_tot_returns': NFLX['Adj Close'].pct_change(),\n",
    "                               'TSLA_tot_returns': TSLA['Adj Close'].pct_change(),\n",
    "                                'PLUG_tot_returns': PLUG['Adj Close'].pct_change(),\n",
    "                                'FB_tot_returns': FB['Adj Close'].pct_change(),\n",
    "                                 'MSFT_tot_returns': MSFT['Adj Close'].pct_change()})\n",
    "\n",
    "returns_max = returns_max.dropna()\n",
    "\n",
    "# Defining the portfolio Sharpe Ratio\n",
    "def sharpe_ratio(x, cov_matrix, mean_vector, r_f):\n",
    "    f = float(-(x.dot(mean_vector) - r_f) / np.sqrt(x.dot(cov_matrix).dot(x.T)))\n",
    "    return f\n",
    "\n",
    "# Defining the risk free rate\n",
    "daily_risk = 0.0008 / 365\n",
    "\n",
    "# Defining the number of stocks\n",
    "n = returns_max.shape[1]\n",
    "\n",
    "# Defining the initial weights\n",
    "x = np.repeat(1/n, n)\n",
    "\n",
    "# Defining the mean returns\n",
    "mean_vector = np.mean(returns_max, axis = 0)\n",
    "\n",
    "# Defining the covariance matrix\n",
    "cov_matrix = returns_max.cov()\n",
    "\n",
    "# Defining the matrix of constraints\n",
    "cons = ({'type': 'eq', 'fun': lambda x: np.sum(x) - 1})\n",
    "bounds = [(0, 1) for i in range(len(x))]\n",
    "\n",
    "# Solving the optimization problem\n",
    "result_Sharpe = minimize(sharpe_ratio, x,\n",
    "                        args = (cov_matrix, mean_vector, daily_risk),\n",
    "                        method = 'SLSQP', bounds = bounds,\n",
    "                        constraints = cons).x\n",
    "\n",
    "print('AAPL: ', round(result_Sharpe[0]*100, 2), '%')\n",
    "print('AMZN: ', round(result_Sharpe[1]*100, 2), '%')\n",
    "print('NKE: ', round(result_Sharpe[2]*100, 2), '%')\n",
    "print('CHTR: ', round(result_Sharpe[3]*100, 2), '%')\n",
    "print('NFLX: ', round(result_Sharpe[4]*100, 2), '%')\n",
    "print('TSLA: ', round(result_Sharpe[5]*100, 2), '%')\n",
    "print('PLUG: ', round(result_Sharpe[6]*100, 2), '%')\n",
    "print('FB: ', round(result_Sharpe[7]*100, 2), '%')\n",
    "print('MSFT: ', round(result_Sharpe[8]*100, 2), '%')\n",
    "print('')\n",
    "print('This portfolio will be called Maximum Sharpe Ratio Portfolio')\n"
   ]
  },
  {
   "cell_type": "markdown",
   "metadata": {},
   "source": [
    "# Maximum Sharpe Ratio Portfolio\n",
    "## Garman Klass of the Maximum Sharpe Ratio Portfolio"
   ]
  },
  {
   "cell_type": "code",
   "execution_count": 85,
   "metadata": {},
   "outputs": [
    {
     "name": "stdout",
     "output_type": "stream",
     "text": [
      "The German Klass for the Maximum Sharpe Ratio portfolio is:  0.0306\n"
     ]
    }
   ],
   "source": [
    "portfolio_SR_GK = (0.0569*float(Garman_Klass_AAPL) + 0.1105*float(Garman_Klass_AMZN) +\\\n",
    "                    0.0478*float(Garman_Klass_NKE) + 0.1208*float(Garman_Klass_CHTR) +\\\n",
    "                    0.2341*float(Garman_Klass_TSLA) + 0.2266*float(Garman_Klass_PLUG) +\\\n",
    "                    0.2033*float(Garman_Klass_MSFT))\n",
    "\n",
    "print('The German Klass for the Maximum Sharpe Ratio portfolio is: ', round(portfolio_SR_GK, 4))"
   ]
  },
  {
   "cell_type": "markdown",
   "metadata": {},
   "source": [
    "## Sharpe Ratio of the Maximum Sharpe Ratio Portfolio"
   ]
  },
  {
   "cell_type": "code",
   "execution_count": 88,
   "metadata": {},
   "outputs": [
    {
     "name": "stdout",
     "output_type": "stream",
     "text": [
      "Sharpe Ratio for the Maximum Sharpe Ratio portfolio is: 0.106\n"
     ]
    }
   ],
   "source": [
    "portfolio_SR_SR = (5.69*portfolio['AAPL_tot_returns'] + 11.05*portfolio['AMZN_tot_returns'] +\\\n",
    "                   4.78*portfolio['NKE_tot_returns'] + 12.08*portfolio['CHTR_tot_returns'] +\\\n",
    "                   23.41*portfolio['TSLA_tot_returns'] + 22.66*portfolio['PLUG_tot_returns'] +\\\n",
    "                   20.33*portfolio['MSFT_tot_returns'])\n",
    "\n",
    "## Computing the Sharpe Ratio of the portfolio\n",
    "daily_risk_free = 0.0008 / 365\n",
    "mu_portfolio_SR_SR = portfolio_SR_SR.mean()\n",
    "sd_portfolio_SR_SR = portfolio_SR_SR.std()\n",
    "Sharpe_portfolio_SR = (mu_portfolio_SR_SR - daily_risk_free) / sd_portfolio_SR_SR\n",
    "\n",
    "print('Sharpe Ratio for the Maximum Sharpe Ratio portfolio is: {}'.format(round(Sharpe_portfolio_SR, 3)))\n"
   ]
  },
  {
   "cell_type": "markdown",
   "metadata": {},
   "source": [
    "## Maximum Sharpe Ratio Portfolio return"
   ]
  },
  {
   "cell_type": "code",
   "execution_count": 89,
   "metadata": {},
   "outputs": [
    {
     "name": "stdout",
     "output_type": "stream",
     "text": [
      "The total return of the Maximum Sharpe Ratio portfolio is:  649.79 %\n"
     ]
    }
   ],
   "source": [
    "portfolio_SR_return = (5.69*portfolio['AAPL_cum_returns'] + 11.05*portfolio['AMZN_cum_returns'] +\\\n",
    "                       4.78*portfolio['NKE_cum_returns'] + 12.08*portfolio['CHTR_cum_returns'] +\\\n",
    "                       23.41*portfolio['TSLA_cum_returns'] + 22.66*portfolio['PLUG_cum_returns'] +\\\n",
    "                       20.33*portfolio['MSFT_cum_returns'])\n",
    "\n",
    "\n",
    "print('The total return of the Maximum Sharpe Ratio portfolio is: ', round(portfolio_SR_return.tail()[-1], 2), '%')\n"
   ]
  },
  {
   "cell_type": "markdown",
   "metadata": {},
   "source": [
    "## Maximum Sharpe Ratio ES and VaR"
   ]
  },
  {
   "cell_type": "code",
   "execution_count": 90,
   "metadata": {},
   "outputs": [
    {
     "name": "stdout",
     "output_type": "stream",
     "text": [
      "Assuming an initial investment of $100,000.00, there is a 5% chance that the Maximum Sharpe Ratio portfolio losses will exceed $9381.69.\n",
      "If the losses exceed this value, there is a 5% chance that the losses will average $15068.78.\n"
     ]
    }
   ],
   "source": [
    "# Computing Current Value\n",
    "AAPL_current_value = 5.69*100000*portfolio['AAPL_tot_returns'].tail()[-1]\n",
    "AMZN_current_value = 11.05*100000*portfolio['AMZN_tot_returns'].tail()[-1]\n",
    "NKE_current_value  = 4.78*100000*portfolio['NKE_tot_returns'].tail()[-1]\n",
    "CHTR_current_value = 12.08*100000*portfolio['CHTR_tot_returns'].tail()[-1]\n",
    "TSLA_current_value = 23.41*100000*portfolio['TSLA_tot_returns'].tail()[-1]\n",
    "PLUG_current_value = 22.66*100000*portfolio['PLUG_tot_returns'].tail()[-1]\n",
    "MSFT_current_value = 20.33*100000*portfolio['MSFT_tot_returns'].tail()[-1]\n",
    "\n",
    "## Calculating sim portfolio\n",
    "sim_portfolio_maxsp = (AAPL_current_value*portfolio['AAPL_tot_returns'] +\\\n",
    "                        AMZN_current_value*portfolio['AMZN_tot_returns'] +\\\n",
    "                        NKE_current_value*portfolio['NKE_tot_returns'] +\\\n",
    "                        CHTR_current_value*portfolio['CHTR_tot_returns'] +\\\n",
    "                        TSLA_current_value*portfolio['TSLA_tot_returns'] +\\\n",
    "                        PLUG_current_value*portfolio['PLUG_tot_returns'] +\\\n",
    "                        MSFT_current_value*portfolio['MSFT_tot_returns'])\n",
    "\n",
    "## Calculating 5% Value at Risk (vaR)\n",
    "vaR_marsp = np.percentile(sim_portfolio_maxsp, 5)\n",
    "\n",
    "## Calculating ES\n",
    "ES_marsp = sim_portfolio_maxsp[sim_portfolio_maxsp < vaR_marsp].mean()\n",
    "\n",
    "print('Assuming an initial investment of $100,000.00, there is a 5% chance that the Maximum Sharpe Ratio portfolio losses will exceed ${}.'.format(round(vaR_marsp*-1,2)))\n",
    "print('If the losses exceed this value, there is a 5% chance that the losses will average ${}.'.format(round(ES_marsp*-1,2)))"
   ]
  }
 ],
 "metadata": {
  "kernelspec": {
   "display_name": "Python 3",
   "language": "python",
   "name": "python3"
  },
  "language_info": {
   "codemirror_mode": {
    "name": "ipython",
    "version": 3
   },
   "file_extension": ".py",
   "mimetype": "text/x-python",
   "name": "python",
   "nbconvert_exporter": "python",
   "pygments_lexer": "ipython3",
   "version": "3.8.3"
  }
 },
 "nbformat": 4,
 "nbformat_minor": 4
}
